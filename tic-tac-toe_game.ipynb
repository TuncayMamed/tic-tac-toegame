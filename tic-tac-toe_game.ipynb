{
 "cells": [
  {
   "cell_type": "code",
   "execution_count": null,
   "metadata": {},
   "outputs": [
    {
     "name": "stdout",
     "output_type": "stream",
     "text": [
      "   |   |   \n",
      "---+---+---\n",
      "   |   |   \n",
      "---+---+---\n",
      "   |   |   \n",
      "X turn. Enter row, col:\n"
     ]
    },
    {
     "name": "stdin",
     "output_type": "stream",
     "text": [
      "  0 2\n"
     ]
    },
    {
     "name": "stdout",
     "output_type": "stream",
     "text": [
      "   |   | X \n",
      "---+---+---\n",
      "   |   |   \n",
      "---+---+---\n",
      "   |   |   \n",
      "O turn. Enter row, col:\n"
     ]
    },
    {
     "name": "stdin",
     "output_type": "stream",
     "text": [
      " 0 4\n"
     ]
    },
    {
     "name": "stdout",
     "output_type": "stream",
     "text": [
      "Invalid move. Try again.\n",
      "O turn. Enter row, col:\n"
     ]
    }
   ],
   "source": [
    "#Tic-tac-toe game#\n",
    "\n",
    "board = [[' ', ' ', ' '] for _ in range(3)]\n",
    "\n",
    "def handle_move(row, col):\n",
    "  global current_player\n",
    "  board[row][col] = current_player\n",
    "  current_player = player_2 if current_player == player_1 else player_1\n",
    "\n",
    "\n",
    "player_1 = 'X' #this is first player X#\n",
    "player_2 = 'O'  #this is second player O#\n",
    "current_player = player_1 #first player start game#\n",
    "\n",
    "def print_board():\n",
    "  print(f' {board[0][0]} | {board[0][1]} | {board[0][2]} ')\n",
    "  print('---+---+---')\n",
    "  print(f' {board[1][0]} | {board[1][1]} | {board[1][2]} ')\n",
    "  print('---+---+---')\n",
    "  print(f' {board[2][0]} | {board[2][1]} | {board[2][2]} ')\n",
    "\n",
    "\n",
    "def game_over():\n",
    "  for i in range(3):\n",
    "    if board[i][0] == board[i][1] == board[i][2] and board[i][0] != ' ':\n",
    "      return True\n",
    "    if board[0][i] == board[1][i] == board[2][i] and board[0][i] != ' ':\n",
    "      return True\n",
    "  if board[0][0] == board[1][1] == board[2][2] and board[0][0] != ' ':\n",
    "    return True\n",
    "  if board[0][2] == board[1][1] == board[2][0] and board[0][2] != ' ':\n",
    "    return True\n",
    "  for i in range(3):\n",
    "    for j in range(3):\n",
    "      if board[i][j] == ' ':\n",
    "        return False\n",
    "  return True\n",
    "\n",
    "print_board()\n",
    "while True:\n",
    "  print(f'{current_player} turn. Enter row, col:')\n",
    "  row, col = map(int, input().split())  #example-0 0/0 1/0 2#  \n",
    "  if row in range(3) and col in range(3) and board[row][col] == ' ':\n",
    "    handle_move(row, col)\n",
    "  else:\n",
    "    print('Invalid move. Try again.')\n",
    "    continue\n",
    "  print_board()\n",
    "  if game_over():\n",
    "    break\n",
    "print('Game over!')\n",
    "\n",
    "#good luck#\n"
   ]
  },
  {
   "cell_type": "code",
   "execution_count": null,
   "metadata": {},
   "outputs": [],
   "source": []
  }
 ],
 "metadata": {
  "kernelspec": {
   "display_name": "Python 3",
   "language": "python",
   "name": "python3"
  },
  "language_info": {
   "codemirror_mode": {
    "name": "ipython",
    "version": 3
   },
   "file_extension": ".py",
   "mimetype": "text/x-python",
   "name": "python",
   "nbconvert_exporter": "python",
   "pygments_lexer": "ipython3",
   "version": "3.8.5"
  }
 },
 "nbformat": 4,
 "nbformat_minor": 4
}
